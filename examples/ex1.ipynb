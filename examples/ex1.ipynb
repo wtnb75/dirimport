{
 "cells": [
  {
   "cell_type": "code",
   "execution_count": 1,
   "metadata": {},
   "outputs": [],
   "source": [
    "from logging import basicConfig, DEBUG\n",
    "basicConfig(level=DEBUG)"
   ]
  },
  {
   "cell_type": "code",
   "execution_count": 2,
   "metadata": {},
   "outputs": [],
   "source": [
    "import dirimport"
   ]
  },
  {
   "cell_type": "code",
   "execution_count": 3,
   "metadata": {},
   "outputs": [
    {
     "name": "stderr",
     "output_type": "stream",
     "text": [
      "DEBUG:dirimport.gen:dig examples/ex1: ({'subpkg2': ({'subsubpkg': ({'ssspkg': ({}, ['xyz'])}, [])}, []), 'subpkg1': ({'subsubpkg': ({}, ['file1'])}, ['file2', 'file1'])}, ['file1'])\n",
      "DEBUG:dirimport.gen:path examples\n",
      "DEBUG:dirimport.gen:loading(f) ex1 file1\n",
      "DEBUG:dirimport.gen:loaded: <module 'ex1.file1' from 'examples/ex1/file1.py'>, file=examples/ex1/file1.py\n",
      "DEBUG:dirimport.gen:set attribute: <module 'ex1'>.obj1 = hello\n",
      "DEBUG:dirimport.gen:loading(d) ex1 subpkg2 ({'subsubpkg': ({'ssspkg': ({}, ['xyz'])}, [])}, [])\n",
      "DEBUG:dirimport.gen:path examples\n",
      "DEBUG:dirimport.gen:loading(d) ex1.subpkg2 subsubpkg ({'ssspkg': ({}, ['xyz'])}, [])\n",
      "DEBUG:dirimport.gen:path examples\n",
      "DEBUG:dirimport.gen:loading(d) ex1.subpkg2.subsubpkg ssspkg ({}, ['xyz'])\n",
      "DEBUG:dirimport.gen:path examples\n",
      "DEBUG:dirimport.gen:loading(f) ex1.subpkg2.subsubpkg.ssspkg xyz\n",
      "DEBUG:dirimport.gen:loaded: <module 'ex1.subpkg2.subsubpkg.ssspkg.xyz' from 'examples/ex1/subpkg2/subsubpkg/ssspkg/xyz.py'>, file=examples/ex1/subpkg2/subsubpkg/ssspkg/xyz.py\n",
      "DEBUG:dirimport.gen:set attribute: <module 'ex1.subpkg2.subsubpkg.ssspkg'>.xxx = xyz\n",
      "DEBUG:dirimport.gen:loading(d) ex1 subpkg1 ({'subsubpkg': ({}, ['file1'])}, ['file2', 'file1'])\n",
      "DEBUG:dirimport.gen:path examples\n",
      "DEBUG:dirimport.gen:loading(f) ex1.subpkg1 file2\n",
      "DEBUG:dirimport.gen:loaded: <module 'ex1.subpkg1.file2' from 'examples/ex1/subpkg1/file2.py'>, file=examples/ex1/subpkg1/file2.py\n",
      "DEBUG:dirimport.gen:set attribute: <module 'ex1.subpkg1'>.obj1 = objobj1\n",
      "DEBUG:dirimport.gen:loading(f) ex1.subpkg1 file1\n",
      "DEBUG:dirimport.gen:loaded: <module 'ex1.subpkg1.file1' from 'examples/ex1/subpkg1/file1.py'>, file=examples/ex1/subpkg1/file1.py\n",
      "DEBUG:dirimport.gen:set attribute: <module 'ex1.subpkg1'>.obj2 = world\n",
      "DEBUG:dirimport.gen:loading(d) ex1.subpkg1 subsubpkg ({}, ['file1'])\n",
      "DEBUG:dirimport.gen:path examples\n",
      "DEBUG:dirimport.gen:loading(f) ex1.subpkg1.subsubpkg file1\n",
      "DEBUG:dirimport.gen:loaded: <module 'ex1.subpkg1.subsubpkg.file1' from 'examples/ex1/subpkg1/subsubpkg/file1.py'>, file=examples/ex1/subpkg1/subsubpkg/file1.py\n",
      "DEBUG:dirimport.gen:set attribute: <module 'ex1.subpkg1.subsubpkg'>.C1 = <class 'ex1.subpkg1.subsubpkg.file1.C1'>\n",
      "DEBUG:dirimport.gen:set attribute: <module 'ex1.subpkg1.subsubpkg'>.obj3 = foo\n"
     ]
    }
   ],
   "source": [
    "ex1=dirimport.importall(\"examples/ex1\")"
   ]
  },
  {
   "cell_type": "code",
   "execution_count": 4,
   "metadata": {},
   "outputs": [
    {
     "data": {
      "text/plain": [
       "['__doc__',\n",
       " '__loader__',\n",
       " '__name__',\n",
       " '__package__',\n",
       " '__spec__',\n",
       " 'obj1',\n",
       " 'obj2',\n",
       " 'subsubpkg']"
      ]
     },
     "execution_count": 4,
     "metadata": {},
     "output_type": "execute_result"
    }
   ],
   "source": [
    "dir(ex1.subpkg1)"
   ]
  },
  {
   "cell_type": "code",
   "execution_count": 5,
   "metadata": {},
   "outputs": [
    {
     "data": {
      "text/plain": [
       "'ex1'"
      ]
     },
     "execution_count": 5,
     "metadata": {},
     "output_type": "execute_result"
    }
   ],
   "source": [
    "ex1.__name__"
   ]
  },
  {
   "cell_type": "code",
   "execution_count": 6,
   "metadata": {},
   "outputs": [
    {
     "data": {
      "text/plain": [
       "'ex1.subpkg1'"
      ]
     },
     "execution_count": 6,
     "metadata": {},
     "output_type": "execute_result"
    }
   ],
   "source": [
    "ex1.subpkg1.__name__"
   ]
  },
  {
   "cell_type": "code",
   "execution_count": 7,
   "metadata": {},
   "outputs": [
    {
     "data": {
      "text/plain": [
       "'hello'"
      ]
     },
     "execution_count": 7,
     "metadata": {},
     "output_type": "execute_result"
    }
   ],
   "source": [
    "ex1.obj1"
   ]
  },
  {
   "cell_type": "code",
   "execution_count": 8,
   "metadata": {},
   "outputs": [
    {
     "data": {
      "text/plain": [
       "'world'"
      ]
     },
     "execution_count": 8,
     "metadata": {},
     "output_type": "execute_result"
    }
   ],
   "source": [
    "ex1.subpkg1.obj2"
   ]
  },
  {
   "cell_type": "code",
   "execution_count": 9,
   "metadata": {},
   "outputs": [
    {
     "data": {
      "text/plain": [
       "'objobj1'"
      ]
     },
     "execution_count": 9,
     "metadata": {},
     "output_type": "execute_result"
    }
   ],
   "source": [
    "ex1.subpkg1.obj1"
   ]
  },
  {
   "cell_type": "code",
   "execution_count": null,
   "metadata": {},
   "outputs": [],
   "source": []
  }
 ],
 "metadata": {
  "kernelspec": {
   "display_name": "Python 3",
   "language": "python",
   "name": "python3"
  },
  "language_info": {
   "codemirror_mode": {
    "name": "ipython",
    "version": 3
   },
   "file_extension": ".py",
   "mimetype": "text/x-python",
   "name": "python",
   "nbconvert_exporter": "python",
   "pygments_lexer": "ipython3",
   "version": "3.7.2"
  }
 },
 "nbformat": 4,
 "nbformat_minor": 2
}
